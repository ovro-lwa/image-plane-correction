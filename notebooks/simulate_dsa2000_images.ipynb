{
 "cells": [
  {
   "cell_type": "markdown",
   "id": "24ac40a6-d816-4b59-bc03-5536d5912488",
   "metadata": {},
   "source": [
    "# Simulating DSA-200 Images\n",
    "\n",
    "From tyrones_stuff, simulate a very large image, e.g.:\n",
    "\n",
    "`python sky_model.py --first ~/catalogs/first/first_14dec17.fits -o test_first.fits`\n",
    "\n",
    "TODO: add more sources and make larger area. be sure to set npix to produce correct pixel scale\n",
    "\n",
    "The simulation process will apply image-plane modifications as they are applied by propagation and measurement (going \"forward\").\n",
    "1. apply ionospheric screen\n",
    "2. apply primary beam and cut out 16k x 16k field (~10 sq deg)\n",
    "3. add noise\n",
    "4. convolve with PSF\n",
    "\n",
    "Then iterate over new screens and pointing directions to create a sequence of measurements of a \"tile\" (e.g., 5x5)."
   ]
  },
  {
   "cell_type": "code",
   "execution_count": 1,
   "id": "58344ea3-86e5-4827-a775-3eba7f62fb29",
   "metadata": {},
   "outputs": [],
   "source": [
    "input_image = '/home/claw/code/tyrones_stuff/test_first.fits'  # toy image"
   ]
  },
  {
   "cell_type": "code",
   "execution_count": 2,
   "id": "5402d56d-c08f-4dfb-ada0-853823ff8919",
   "metadata": {},
   "outputs": [
    {
     "name": "stderr",
     "output_type": "stream",
     "text": [
      "2024-09-10 17:09:37.202049: W external/xla/xla/service/gpu/nvptx_compiler.cc:765] The NVIDIA driver's CUDA version is 12.1 which is older than the ptxas CUDA version (12.6.68). Because the driver is older than the ptxas version, XLA is disabling parallel compilation, which may slow down compilation. You should update your NVIDIA driver or use the NVIDIA-provided CUDA forward compatibility packages.\n"
     ]
    }
   ],
   "source": [
    "from data import fits_image\n",
    "image, wcs = fits_image(input_image)"
   ]
  },
  {
   "cell_type": "markdown",
   "id": "de4026ca-16ef-4c25-81ae-1278659d3176",
   "metadata": {},
   "source": [
    "## 1. Ionosphere"
   ]
  },
  {
   "cell_type": "code",
   "execution_count": 3,
   "id": "79789e2d-7eb5-456c-bde0-40745f142d3a",
   "metadata": {},
   "outputs": [],
   "source": [
    "# create difference array\n",
    "#diff = ref_xy - sources_xy  # offset of x/y in units of pixels\n",
    "#dxmodel = RBFInterpolator(sources_xy, diff[:, 0], kernel='linear', smoothing=smoothing, neighbors=neighbors)\n",
    "#dymodel = RBFInterpolator(sources_xy, diff[:, 1], kernel='linear', smoothing=smoothing, neighbors=neighbors)\n",
    "\n",
    "#offsets = compute_offsets(dxmodel, dymodel)  # IMAGE_SIZE^2 x 2\n",
    "#image_indices = np.indices((IMAGE_SIZE, IMAGE_SIZE)).swapaxes(0, 2)[:, :, ::-1].reshape((IMAGE_SIZE * IMAGE_SIZE, 2))\n",
    "#interp = CloughTocher2DInterpolator(image_indices - offsets, np.ravel(image_data))\n",
    "#dewarped = compute_interpolation(interp)\n",
    "\n",
    "# \"dewarped\" can also be \"warped\"!\n",
    "#\n",
    "# compute_offsets and compute_interpolation are in https://github.com/ovro-lwa/image-plane-correction/blob/main/scripts/fits_warp_lwa.py"
   ]
  },
  {
   "cell_type": "markdown",
   "id": "c0971ce2-7e99-4b91-81ef-0ce0c7391cc7",
   "metadata": {},
   "source": [
    "## 2. Primary beam and cut out"
   ]
  },
  {
   "cell_type": "code",
   "execution_count": 4,
   "id": "5b0d5cf7-aacd-4e66-b941-c683c2973477",
   "metadata": {},
   "outputs": [],
   "source": [
    "from util import indices, rescale_quantile, gaussian_filter, match_histograms\n",
    "from interactive import toggle_images, plot_image"
   ]
  },
  {
   "cell_type": "code",
   "execution_count": 5,
   "id": "bbad23aa-9eb1-43dd-a260-b0a92ed72b21",
   "metadata": {},
   "outputs": [
    {
     "name": "stderr",
     "output_type": "stream",
     "text": [
      "E0910 17:09:43.935164 3887413 cuda_blas.cc:202] failed to create cublas handle: the library was not initialized\n",
      "E0910 17:09:43.935232 3887413 cuda_blas.cc:205] Failure to initialize cublas may be due to OOM (cublas needs some free memory when you initialize it, and your deep-learning framework may have preallocated more than its fair share), or may be because this binary was not built with support for the GPU in your machine.\n",
      "2024-09-10 17:09:44.008918: W external/xla/xla/service/gpu/conv_algorithm_picker.cc:802] None of the algorithms provided by cuDNN heuristics worked; trying fallback algorithms.\n",
      "2024-09-10 17:09:44.008984: W external/xla/xla/service/gpu/conv_algorithm_picker.cc:805] Conv: (f32[8192,1,8192]{2,1,0}, u8[0]{0}) custom-call(f32[8192,1,8192]{2,1,0}, f32[1,1,25]{2,1,0}), window={size=25 pad=12_12}, dim_labels=bf0_oi0->bf0, custom_call_target=\"__cudnn$convForward\", backend_config={\"operation_queue_id\":\"0\",\"wait_on_operation_queues\":[],\"cudnn_conv_backend_config\":{\"conv_result_scale\":1,\"activation_mode\":\"kNone\",\"side_input_scale\":0,\"leakyrelu_alpha\":0},\"force_earliest_schedule\":false}\n"
     ]
    },
    {
     "ename": "XlaRuntimeError",
     "evalue": "UNKNOWN: Failed to determine best cudnn convolution algorithm for:\n%cudnn-conv = (f32[8192,1,8192]{2,1,0}, u8[0]{0}) custom-call(f32[8192,1,8192]{2,1,0} %Arg_0.1, f32[1,1,25]{2,1,0} %Arg_1.2), window={size=25 pad=12_12}, dim_labels=bf0_oi0->bf0, custom_call_target=\"__cudnn$convForward\", metadata={op_name=\"jit(conv_general_dilated)/jit(main)/conv_general_dilated[window_strides=(1,) padding=((12, 12),) lhs_dilation=(1,) rhs_dilation=(1,) dimension_numbers=ConvDimensionNumbers(lhs_spec=(0, 1, 2), rhs_spec=(0, 1, 2), out_spec=(0, 1, 2)) feature_group_count=1 batch_group_count=1 precision=None preferred_element_type=None]\" source_file=\"/tmp/ipykernel_3887413/1182500175.py\" source_line=1}, backend_config={\"operation_queue_id\":\"0\",\"wait_on_operation_queues\":[],\"cudnn_conv_backend_config\":{\"conv_result_scale\":1,\"activation_mode\":\"kNone\",\"side_input_scale\":0,\"leakyrelu_alpha\":0},\"force_earliest_schedule\":false}\n\nOriginal error: INTERNAL: All algorithms tried for (f32[8192,1,8192]{2,1,0}, u8[0]{0}) custom-call(f32[8192,1,8192]{2,1,0}, f32[1,1,25]{2,1,0}), window={size=25 pad=12_12}, dim_labels=bf0_oi0->bf0, custom_call_target=\"__cudnn$convForward\", backend_config={\"operation_queue_id\":\"0\",\"wait_on_operation_queues\":[],\"cudnn_conv_backend_config\":{\"conv_result_scale\":1,\"activation_mode\":\"kNone\",\"side_input_scale\":0,\"leakyrelu_alpha\":0},\"force_earliest_schedule\":false} failed. Falling back to default algorithm.  Per-algorithm errors:\n  Profiling failure on cuDNN engine eng0{}: UNKNOWN: CUDNN_STATUS_ALLOC_FAILED\nin external/xla/xla/stream_executor/cuda/cuda_dnn.cc(6043): 'status'\n  Profiling failure on cuDNN engine eng34{k2=2,k4=1,k5=0,k6=0,k7=0,k19=0}: UNKNOWN: CUDNN_STATUS_EXECUTION_FAILED\nin external/xla/xla/stream_executor/cuda/cuda_dnn.cc(6043): 'status'\n  Profiling failure on cuDNN engine eng48{k2=15,k6=0,k13=1,k14=0,k22=0}: UNKNOWN: CUDNN_STATUS_ALLOC_FAILED\nin external/xla/xla/stream_executor/cuda/cuda_dnn.cc(6043): 'status'\n  Profiling failure on cuDNN engine eng55{k2=1,k13=0,k14=1,k18=0,k22=2,k23=0}: UNKNOWN: CUDNN_STATUS_ALLOC_FAILED\nin external/xla/xla/stream_executor/cuda/cuda_dnn.cc(6043): 'status'\n  Profiling failure on cuDNN engine eng28{k2=4,k3=0}: UNKNOWN: CUDNN_STATUS_ALLOC_FAILED\nin external/xla/xla/stream_executor/cuda/cuda_dnn.cc(6043): 'status'\n  Profiling failure on cuDNN engine eng55{k2=1,k13=0,k14=3,k18=1,k22=0,k23=0}: UNKNOWN: CUDNN_STATUS_ALLOC_FAILED\nin external/xla/xla/stream_executor/cuda/cuda_dnn.cc(6043): 'status'\n  Profiling failure on cuDNN engine eng53{k2=1,k13=0,k14=3,k18=0,k23=0}: UNKNOWN: CUDNN_STATUS_ALLOC_FAILED\nin external/xla/xla/stream_executor/cuda/cuda_dnn.cc(6043): 'status'\n  Profiling failure on cuDNN engine eng53{k2=0,k13=2,k14=2,k18=0,k23=0}: UNKNOWN: CUDNN_STATUS_ALLOC_FAILED\nin external/xla/xla/stream_executor/cuda/cuda_dnn.cc(6043): 'status'\n  Profiling failure on cuDNN engine eng28{k2=3,k3=0}: UNKNOWN: CUDNN_STATUS_ALLOC_FAILED\nin external/xla/xla/stream_executor/cuda/cuda_dnn.cc(6043): 'status'\n  Profiling failure on cuDNN engine eng34{k2=1,k4=2,k5=1,k6=0,k7=0,k19=0}: UNKNOWN: CUDNN_STATUS_EXECUTION_FAILED\nin external/xla/xla/stream_executor/cuda/cuda_dnn.cc(6043): 'status'\n  Profiling failure on cuDNN engine eng55{k2=0,k13=2,k14=2,k18=0,k22=2,k23=0}: UNKNOWN: CUDNN_STATUS_ALLOC_FAILED\nin external/xla/xla/stream_executor/cuda/cuda_dnn.cc(6043): 'status'\n  Profiling failure on cuDNN engine eng53{k2=8,k13=1,k14=3,k18=0,k23=0}: UNKNOWN: CUDNN_STATUS_ALLOC_FAILED\nin external/xla/xla/stream_executor/cuda/cuda_dnn.cc(6043): 'status'\n  Profiling failure on cuDNN engine eng53{k2=3,k13=0,k14=1,k18=0,k23=0}: UNKNOWN: CUDNN_STATUS_ALLOC_FAILED\nin external/xla/xla/stream_executor/cuda/cuda_dnn.cc(6043): 'status'\n  Profiling failure on cuDNN engine eng28{k2=2,k3=0}: UNKNOWN: CUDNN_STATUS_ALLOC_FAILED\nin external/xla/xla/stream_executor/cuda/cuda_dnn.cc(6043): 'status'\n  Profiling failure on cuDNN engine eng1{k2=2,k3=0}: UNKNOWN: CUDNN_STATUS_ALLOC_FAILED\nin external/xla/xla/stream_executor/cuda/cuda_dnn.cc(6043): 'status'\n  Profiling failure on cuDNN engine eng28{k2=0,k3=0}: UNKNOWN: CUDNN_STATUS_ALLOC_FAILED\nin external/xla/xla/stream_executor/cuda/cuda_dnn.cc(6043): 'status'\n  Profiling failure on cuDNN engine eng28{k2=1,k3=0}: UNKNOWN: CUDNN_STATUS_ALLOC_FAILED\nin external/xla/xla/stream_executor/cuda/cuda_dnn.cc(6043): 'status'\n  Profiling failure on cuDNN engine eng1{}: UNKNOWN: CUDNN_STATUS_ALLOC_FAILED\nin external/xla/xla/stream_executor/cuda/cuda_dnn.cc(6043): 'status'\n  Profiling failure on cuDNN engine eng28{}: UNKNOWN: CUDNN_STATUS_ALLOC_FAILED\nin external/xla/xla/stream_executor/cuda/cuda_dnn.cc(6043): 'status'\n  Profiling failure on cuDNN engine eng0{}: UNKNOWN: CUDNN_STATUS_ALLOC_FAILED\nin external/xla/xla/stream_executor/cuda/cuda_dnn.cc(6043): 'status'\n  Profiling failure on cuDNN engine eng55{k2=0,k13=2,k14=2,k18=0,k22=0,k23=0}: UNKNOWN: CUDNN_STATUS_ALLOC_FAILED\nin external/xla/xla/stream_executor/cuda/cuda_dnn.cc(6043): 'status'\n  Profiling failure on cuDNN engine eng55{k2=8,k13=1,k14=3,k18=1,k22=0,k23=0}: UNKNOWN: CUDNN_STATUS_ALLOC_FAILED\nin external/xla/xla/stream_executor/cuda/cuda_dnn.cc(6043): 'status'\n  Profiling failure on cuDNN engine eng55{k2=3,k13=0,k14=1,k18=0,k22=0,k23=0}: UNKNOWN: CUDNN_STATUS_ALLOC_FAILED\nin external/xla/xla/stream_executor/cuda/cuda_dnn.cc(6043): 'status'\n  Profiling failure on cuDNN engine eng53{k2=5,k13=1,k14=2,k18=0,k23=0}: UNKNOWN: CUDNN_STATUS_ALLOC_FAILED\nin external/xla/xla/stream_executor/cuda/cuda_dnn.cc(6043): 'status'\n  Profiling failure on cuDNN engine eng55{k2=0,k13=0,k14=2,k18=0,k22=0,k23=0}: UNKNOWN: CUDNN_STATUS_ALLOC_FAILED\nin external/xla/xla/stream_executor/cuda/cuda_dnn.cc(6043): 'status'\n  Profiling failure on cuDNN engine eng53{k2=6,k13=0,k14=1,k18=0,k23=0}: UNKNOWN: CUDNN_STATUS_ALLOC_FAILED\nin external/xla/xla/stream_executor/cuda/cuda_dnn.cc(6043): 'status'\n\nTo ignore this failure and try to use a fallback algorithm (which may have suboptimal performance), use XLA_FLAGS=--xla_gpu_strict_conv_algorithm_picker=false.  Please also file a bug for the root cause of failing autotuning.",
     "output_type": "error",
     "traceback": [
      "\u001b[0;31m---------------------------------------------------------------------------\u001b[0m",
      "\u001b[0;31mXlaRuntimeError\u001b[0m                           Traceback (most recent call last)",
      "\u001b[0;32m/tmp/ipykernel_3887413/1182500175.py\u001b[0m in \u001b[0;36m<module>\u001b[0;34m\u001b[0m\n\u001b[0;32m----> 1\u001b[0;31m \u001b[0mimg1\u001b[0m \u001b[0;34m=\u001b[0m \u001b[0mgaussian_filter\u001b[0m\u001b[0;34m(\u001b[0m\u001b[0mimage\u001b[0m\u001b[0;34m,\u001b[0m \u001b[0msigma\u001b[0m\u001b[0;34m=\u001b[0m\u001b[0;36m3\u001b[0m\u001b[0;34m)\u001b[0m\u001b[0;34m\u001b[0m\u001b[0;34m\u001b[0m\u001b[0m\n\u001b[0m\u001b[1;32m      2\u001b[0m \u001b[0mimg1r\u001b[0m \u001b[0;34m=\u001b[0m \u001b[0mrescale_quantile\u001b[0m\u001b[0;34m(\u001b[0m\u001b[0mimg1\u001b[0m\u001b[0;34m,\u001b[0m \u001b[0;36m0.5\u001b[0m\u001b[0;34m,\u001b[0m \u001b[0;36m0.95\u001b[0m\u001b[0;34m)\u001b[0m\u001b[0;34m\u001b[0m\u001b[0;34m\u001b[0m\u001b[0m\n",
      "\u001b[0;32m~/.conda/envs/py39/lib/python3.9/site-packages/util.py\u001b[0m in \u001b[0;36mgaussian_filter\u001b[0;34m(input, sigma, order, truncate, radius, mode, cval, precision)\u001b[0m\n\u001b[1;32m     96\u001b[0m \u001b[0;34m\u001b[0m\u001b[0m\n\u001b[1;32m     97\u001b[0m     \u001b[0;32mfor\u001b[0m \u001b[0maxis\u001b[0m \u001b[0;32min\u001b[0m \u001b[0mrange\u001b[0m\u001b[0;34m(\u001b[0m\u001b[0minput\u001b[0m\u001b[0;34m.\u001b[0m\u001b[0mndim\u001b[0m\u001b[0;34m)\u001b[0m\u001b[0;34m:\u001b[0m\u001b[0;34m\u001b[0m\u001b[0;34m\u001b[0m\u001b[0m\n\u001b[0;32m---> 98\u001b[0;31m         input = gaussian_filter1d(\n\u001b[0m\u001b[1;32m     99\u001b[0m             \u001b[0minput\u001b[0m\u001b[0;34m,\u001b[0m\u001b[0;34m\u001b[0m\u001b[0;34m\u001b[0m\u001b[0m\n\u001b[1;32m    100\u001b[0m             \u001b[0msigma\u001b[0m\u001b[0;34m,\u001b[0m\u001b[0;34m\u001b[0m\u001b[0;34m\u001b[0m\u001b[0m\n",
      "\u001b[0;32m~/.conda/envs/py39/lib/python3.9/site-packages/util.py\u001b[0m in \u001b[0;36mgaussian_filter1d\u001b[0;34m(input, sigma, axis, order, truncate, radius, mode, cval, precision)\u001b[0m\n\u001b[1;32m     71\u001b[0m     \u001b[0;31m# while in gaussian_filter1d refers to the way the padding is done 'constant' 'reflect' etc.\u001b[0m\u001b[0;34m\u001b[0m\u001b[0;34m\u001b[0m\u001b[0m\n\u001b[1;32m     72\u001b[0m     \u001b[0;31m# We should change the convolve backend for further features\u001b[0m\u001b[0;34m\u001b[0m\u001b[0;34m\u001b[0m\u001b[0m\n\u001b[0;32m---> 73\u001b[0;31m     return jnp.apply_along_axis(\n\u001b[0m\u001b[1;32m     74\u001b[0m         \u001b[0mjsp\u001b[0m\u001b[0;34m.\u001b[0m\u001b[0msignal\u001b[0m\u001b[0;34m.\u001b[0m\u001b[0mconvolve\u001b[0m\u001b[0;34m,\u001b[0m\u001b[0;34m\u001b[0m\u001b[0;34m\u001b[0m\u001b[0m\n\u001b[1;32m     75\u001b[0m         \u001b[0maxis\u001b[0m\u001b[0;34m,\u001b[0m\u001b[0;34m\u001b[0m\u001b[0;34m\u001b[0m\u001b[0m\n",
      "\u001b[0;32m~/.conda/envs/py39/lib/python3.9/site-packages/jax/_src/numpy/lax_numpy.py\u001b[0m in \u001b[0;36mapply_along_axis\u001b[0;34m(func1d, axis, arr, *args, **kwargs)\u001b[0m\n\u001b[1;32m   4463\u001b[0m   \u001b[0;32mfor\u001b[0m \u001b[0mi\u001b[0m \u001b[0;32min\u001b[0m \u001b[0mrange\u001b[0m\u001b[0;34m(\u001b[0m\u001b[0maxis\u001b[0m\u001b[0;34m)\u001b[0m\u001b[0;34m:\u001b[0m\u001b[0;34m\u001b[0m\u001b[0;34m\u001b[0m\u001b[0m\n\u001b[1;32m   4464\u001b[0m     \u001b[0mfunc\u001b[0m \u001b[0;34m=\u001b[0m \u001b[0mjax\u001b[0m\u001b[0;34m.\u001b[0m\u001b[0mvmap\u001b[0m\u001b[0;34m(\u001b[0m\u001b[0mfunc\u001b[0m\u001b[0;34m,\u001b[0m \u001b[0min_axes\u001b[0m\u001b[0;34m=\u001b[0m\u001b[0;36m0\u001b[0m\u001b[0;34m,\u001b[0m \u001b[0mout_axes\u001b[0m\u001b[0;34m=\u001b[0m\u001b[0;36m0\u001b[0m\u001b[0;34m)\u001b[0m\u001b[0;34m\u001b[0m\u001b[0;34m\u001b[0m\u001b[0m\n\u001b[0;32m-> 4465\u001b[0;31m   \u001b[0;32mreturn\u001b[0m \u001b[0mfunc\u001b[0m\u001b[0;34m(\u001b[0m\u001b[0marr\u001b[0m\u001b[0;34m)\u001b[0m\u001b[0;34m\u001b[0m\u001b[0;34m\u001b[0m\u001b[0m\n\u001b[0m\u001b[1;32m   4466\u001b[0m \u001b[0;34m\u001b[0m\u001b[0m\n\u001b[1;32m   4467\u001b[0m \u001b[0;34m\u001b[0m\u001b[0m\n",
      "    \u001b[0;31m[... skipping hidden 3 frame]\u001b[0m\n",
      "\u001b[0;32m~/.conda/envs/py39/lib/python3.9/site-packages/jax/_src/numpy/lax_numpy.py\u001b[0m in \u001b[0;36m<lambda>\u001b[0;34m(arr)\u001b[0m\n\u001b[1;32m   4458\u001b[0m   \u001b[0mnum_dims\u001b[0m \u001b[0;34m=\u001b[0m \u001b[0mndim\u001b[0m\u001b[0;34m(\u001b[0m\u001b[0marr\u001b[0m\u001b[0;34m)\u001b[0m\u001b[0;34m\u001b[0m\u001b[0;34m\u001b[0m\u001b[0m\n\u001b[1;32m   4459\u001b[0m   \u001b[0maxis\u001b[0m \u001b[0;34m=\u001b[0m \u001b[0m_canonicalize_axis\u001b[0m\u001b[0;34m(\u001b[0m\u001b[0maxis\u001b[0m\u001b[0;34m,\u001b[0m \u001b[0mnum_dims\u001b[0m\u001b[0;34m)\u001b[0m\u001b[0;34m\u001b[0m\u001b[0;34m\u001b[0m\u001b[0m\n\u001b[0;32m-> 4460\u001b[0;31m   \u001b[0mfunc\u001b[0m \u001b[0;34m=\u001b[0m \u001b[0;32mlambda\u001b[0m \u001b[0marr\u001b[0m\u001b[0;34m:\u001b[0m \u001b[0mfunc1d\u001b[0m\u001b[0;34m(\u001b[0m\u001b[0marr\u001b[0m\u001b[0;34m,\u001b[0m \u001b[0;34m*\u001b[0m\u001b[0margs\u001b[0m\u001b[0;34m,\u001b[0m \u001b[0;34m**\u001b[0m\u001b[0mkwargs\u001b[0m\u001b[0;34m)\u001b[0m\u001b[0;34m\u001b[0m\u001b[0;34m\u001b[0m\u001b[0m\n\u001b[0m\u001b[1;32m   4461\u001b[0m   \u001b[0;32mfor\u001b[0m \u001b[0mi\u001b[0m \u001b[0;32min\u001b[0m \u001b[0mrange\u001b[0m\u001b[0;34m(\u001b[0m\u001b[0;36m1\u001b[0m\u001b[0;34m,\u001b[0m \u001b[0mnum_dims\u001b[0m \u001b[0;34m-\u001b[0m \u001b[0maxis\u001b[0m\u001b[0;34m)\u001b[0m\u001b[0;34m:\u001b[0m\u001b[0;34m\u001b[0m\u001b[0;34m\u001b[0m\u001b[0m\n\u001b[1;32m   4462\u001b[0m     \u001b[0mfunc\u001b[0m \u001b[0;34m=\u001b[0m \u001b[0mjax\u001b[0m\u001b[0;34m.\u001b[0m\u001b[0mvmap\u001b[0m\u001b[0;34m(\u001b[0m\u001b[0mfunc\u001b[0m\u001b[0;34m,\u001b[0m \u001b[0min_axes\u001b[0m\u001b[0;34m=\u001b[0m\u001b[0mi\u001b[0m\u001b[0;34m,\u001b[0m \u001b[0mout_axes\u001b[0m\u001b[0;34m=\u001b[0m\u001b[0;34m-\u001b[0m\u001b[0;36m1\u001b[0m\u001b[0;34m)\u001b[0m\u001b[0;34m\u001b[0m\u001b[0;34m\u001b[0m\u001b[0m\n",
      "\u001b[0;32m~/.conda/envs/py39/lib/python3.9/site-packages/jax/_src/scipy/signal.py\u001b[0m in \u001b[0;36mconvolve\u001b[0;34m(in1, in2, mode, method, precision)\u001b[0m\n\u001b[1;32m    245\u001b[0m     \u001b[0;32mreturn\u001b[0m \u001b[0mfftconvolve\u001b[0m\u001b[0;34m(\u001b[0m\u001b[0min1\u001b[0m\u001b[0;34m,\u001b[0m \u001b[0min2\u001b[0m\u001b[0;34m,\u001b[0m \u001b[0mmode\u001b[0m\u001b[0;34m=\u001b[0m\u001b[0mmode\u001b[0m\u001b[0;34m)\u001b[0m\u001b[0;34m\u001b[0m\u001b[0;34m\u001b[0m\u001b[0m\n\u001b[1;32m    246\u001b[0m   \u001b[0;32melif\u001b[0m \u001b[0mmethod\u001b[0m \u001b[0;32min\u001b[0m \u001b[0;34m[\u001b[0m\u001b[0;34m'direct'\u001b[0m\u001b[0;34m,\u001b[0m \u001b[0;34m'auto'\u001b[0m\u001b[0;34m]\u001b[0m\u001b[0;34m:\u001b[0m\u001b[0;34m\u001b[0m\u001b[0;34m\u001b[0m\u001b[0m\n\u001b[0;32m--> 247\u001b[0;31m     \u001b[0;32mreturn\u001b[0m \u001b[0m_convolve_nd\u001b[0m\u001b[0;34m(\u001b[0m\u001b[0min1\u001b[0m\u001b[0;34m,\u001b[0m \u001b[0min2\u001b[0m\u001b[0;34m,\u001b[0m \u001b[0mmode\u001b[0m\u001b[0;34m,\u001b[0m \u001b[0mprecision\u001b[0m\u001b[0;34m=\u001b[0m\u001b[0mprecision\u001b[0m\u001b[0;34m)\u001b[0m\u001b[0;34m\u001b[0m\u001b[0;34m\u001b[0m\u001b[0m\n\u001b[0m\u001b[1;32m    248\u001b[0m   \u001b[0;32melse\u001b[0m\u001b[0;34m:\u001b[0m\u001b[0;34m\u001b[0m\u001b[0;34m\u001b[0m\u001b[0m\n\u001b[1;32m    249\u001b[0m     \u001b[0;32mraise\u001b[0m \u001b[0mValueError\u001b[0m\u001b[0;34m(\u001b[0m\u001b[0;34mf\"Got {method=}; expected 'auto', 'fft', or 'direct'.\"\u001b[0m\u001b[0;34m)\u001b[0m\u001b[0;34m\u001b[0m\u001b[0;34m\u001b[0m\u001b[0m\n",
      "\u001b[0;32m~/.conda/envs/py39/lib/python3.9/site-packages/jax/_src/scipy/signal.py\u001b[0m in \u001b[0;36m_convolve_nd\u001b[0;34m(in1, in2, mode, precision)\u001b[0m\n\u001b[1;32m    180\u001b[0m \u001b[0;34m\u001b[0m\u001b[0m\n\u001b[1;32m    181\u001b[0m   \u001b[0mstrides\u001b[0m \u001b[0;34m=\u001b[0m \u001b[0mtuple\u001b[0m\u001b[0;34m(\u001b[0m\u001b[0;36m1\u001b[0m \u001b[0;32mfor\u001b[0m \u001b[0ms\u001b[0m \u001b[0;32min\u001b[0m \u001b[0mshape\u001b[0m\u001b[0;34m)\u001b[0m\u001b[0;34m\u001b[0m\u001b[0;34m\u001b[0m\u001b[0m\n\u001b[0;32m--> 182\u001b[0;31m   result = lax.conv_general_dilated(in1[None, None], in2[None, None], strides,\n\u001b[0m\u001b[1;32m    183\u001b[0m                                     padding, precision=precision)\n\u001b[1;32m    184\u001b[0m   \u001b[0;32mreturn\u001b[0m \u001b[0mresult\u001b[0m\u001b[0;34m[\u001b[0m\u001b[0;36m0\u001b[0m\u001b[0;34m,\u001b[0m \u001b[0;36m0\u001b[0m\u001b[0;34m]\u001b[0m\u001b[0;34m\u001b[0m\u001b[0;34m\u001b[0m\u001b[0m\n",
      "    \u001b[0;31m[... skipping hidden 25 frame]\u001b[0m\n",
      "\u001b[0;32m~/.conda/envs/py39/lib/python3.9/site-packages/jax/_src/compiler.py\u001b[0m in \u001b[0;36mbackend_compile\u001b[0;34m(backend, module, options, host_callbacks)\u001b[0m\n\u001b[1;32m    236\u001b[0m   \u001b[0;31m# TODO(sharadmv): remove this fallback when all backends allow `compile`\u001b[0m\u001b[0;34m\u001b[0m\u001b[0;34m\u001b[0m\u001b[0m\n\u001b[1;32m    237\u001b[0m   \u001b[0;31m# to take in `host_callbacks`\u001b[0m\u001b[0;34m\u001b[0m\u001b[0;34m\u001b[0m\u001b[0m\n\u001b[0;32m--> 238\u001b[0;31m   \u001b[0;32mreturn\u001b[0m \u001b[0mbackend\u001b[0m\u001b[0;34m.\u001b[0m\u001b[0mcompile\u001b[0m\u001b[0;34m(\u001b[0m\u001b[0mbuilt_c\u001b[0m\u001b[0;34m,\u001b[0m \u001b[0mcompile_options\u001b[0m\u001b[0;34m=\u001b[0m\u001b[0moptions\u001b[0m\u001b[0;34m)\u001b[0m\u001b[0;34m\u001b[0m\u001b[0;34m\u001b[0m\u001b[0m\n\u001b[0m\u001b[1;32m    239\u001b[0m \u001b[0;34m\u001b[0m\u001b[0m\n\u001b[1;32m    240\u001b[0m def compile_or_get_cached(\n",
      "\u001b[0;31mXlaRuntimeError\u001b[0m: UNKNOWN: Failed to determine best cudnn convolution algorithm for:\n%cudnn-conv = (f32[8192,1,8192]{2,1,0}, u8[0]{0}) custom-call(f32[8192,1,8192]{2,1,0} %Arg_0.1, f32[1,1,25]{2,1,0} %Arg_1.2), window={size=25 pad=12_12}, dim_labels=bf0_oi0->bf0, custom_call_target=\"__cudnn$convForward\", metadata={op_name=\"jit(conv_general_dilated)/jit(main)/conv_general_dilated[window_strides=(1,) padding=((12, 12),) lhs_dilation=(1,) rhs_dilation=(1,) dimension_numbers=ConvDimensionNumbers(lhs_spec=(0, 1, 2), rhs_spec=(0, 1, 2), out_spec=(0, 1, 2)) feature_group_count=1 batch_group_count=1 precision=None preferred_element_type=None]\" source_file=\"/tmp/ipykernel_3887413/1182500175.py\" source_line=1}, backend_config={\"operation_queue_id\":\"0\",\"wait_on_operation_queues\":[],\"cudnn_conv_backend_config\":{\"conv_result_scale\":1,\"activation_mode\":\"kNone\",\"side_input_scale\":0,\"leakyrelu_alpha\":0},\"force_earliest_schedule\":false}\n\nOriginal error: INTERNAL: All algorithms tried for (f32[8192,1,8192]{2,1,0}, u8[0]{0}) custom-call(f32[8192,1,8192]{2,1,0}, f32[1,1,25]{2,1,0}), window={size=25 pad=12_12}, dim_labels=bf0_oi0->bf0, custom_call_target=\"__cudnn$convForward\", backend_config={\"operation_queue_id\":\"0\",\"wait_on_operation_queues\":[],\"cudnn_conv_backend_config\":{\"conv_result_scale\":1,\"activation_mode\":\"kNone\",\"side_input_scale\":0,\"leakyrelu_alpha\":0},\"force_earliest_schedule\":false} failed. Falling back to default algorithm.  Per-algorithm errors:\n  Profiling failure on cuDNN engine eng0{}: UNKNOWN: CUDNN_STATUS_ALLOC_FAILED\nin external/xla/xla/stream_executor/cuda/cuda_dnn.cc(6043): 'status'\n  Profiling failure on cuDNN engine eng34{k2=2,k4=1,k5=0,k6=0,k7=0,k19=0}: UNKNOWN: CUDNN_STATUS_EXECUTION_FAILED\nin external/xla/xla/stream_executor/cuda/cuda_dnn.cc(6043): 'status'\n  Profiling failure on cuDNN engine eng48{k2=15,k6=0,k13=1,k14=0,k22=0}: UNKNOWN: CUDNN_STATUS_ALLOC_FAILED\nin external/xla/xla/stream_executor/cuda/cuda_dnn.cc(6043): 'status'\n  Profiling failure on cuDNN engine eng55{k2=1,k13=0,k14=1,k18=0,k22=2,k23=0}: UNKNOWN: CUDNN_STATUS_ALLOC_FAILED\nin external/xla/xla/stream_executor/cuda/cuda_dnn.cc(6043): 'status'\n  Profiling failure on cuDNN engine eng28{k2=4,k3=0}: UNKNOWN: CUDNN_STATUS_ALLOC_FAILED\nin external/xla/xla/stream_executor/cuda/cuda_dnn.cc(6043): 'status'\n  Profiling failure on cuDNN engine eng55{k2=1,k13=0,k14=3,k18=1,k22=0,k23=0}: UNKNOWN: CUDNN_STATUS_ALLOC_FAILED\nin external/xla/xla/stream_executor/cuda/cuda_dnn.cc(6043): 'status'\n  Profiling failure on cuDNN engine eng53{k2=1,k13=0,k14=3,k18=0,k23=0}: UNKNOWN: CUDNN_STATUS_ALLOC_FAILED\nin external/xla/xla/stream_executor/cuda/cuda_dnn.cc(6043): 'status'\n  Profiling failure on cuDNN engine eng53{k2=0,k13=2,k14=2,k18=0,k23=0}: UNKNOWN: CUDNN_STATUS_ALLOC_FAILED\nin external/xla/xla/stream_executor/cuda/cuda_dnn.cc(6043): 'status'\n  Profiling failure on cuDNN engine eng28{k2=3,k3=0}: UNKNOWN: CUDNN_STATUS_ALLOC_FAILED\nin external/xla/xla/stream_executor/cuda/cuda_dnn.cc(6043): 'status'\n  Profiling failure on cuDNN engine eng34{k2=1,k4=2,k5=1,k6=0,k7=0,k19=0}: UNKNOWN: CUDNN_STATUS_EXECUTION_FAILED\nin external/xla/xla/stream_executor/cuda/cuda_dnn.cc(6043): 'status'\n  Profiling failure on cuDNN engine eng55{k2=0,k13=2,k14=2,k18=0,k22=2,k23=0}: UNKNOWN: CUDNN_STATUS_ALLOC_FAILED\nin external/xla/xla/stream_executor/cuda/cuda_dnn.cc(6043): 'status'\n  Profiling failure on cuDNN engine eng53{k2=8,k13=1,k14=3,k18=0,k23=0}: UNKNOWN: CUDNN_STATUS_ALLOC_FAILED\nin external/xla/xla/stream_executor/cuda/cuda_dnn.cc(6043): 'status'\n  Profiling failure on cuDNN engine eng53{k2=3,k13=0,k14=1,k18=0,k23=0}: UNKNOWN: CUDNN_STATUS_ALLOC_FAILED\nin external/xla/xla/stream_executor/cuda/cuda_dnn.cc(6043): 'status'\n  Profiling failure on cuDNN engine eng28{k2=2,k3=0}: UNKNOWN: CUDNN_STATUS_ALLOC_FAILED\nin external/xla/xla/stream_executor/cuda/cuda_dnn.cc(6043): 'status'\n  Profiling failure on cuDNN engine eng1{k2=2,k3=0}: UNKNOWN: CUDNN_STATUS_ALLOC_FAILED\nin external/xla/xla/stream_executor/cuda/cuda_dnn.cc(6043): 'status'\n  Profiling failure on cuDNN engine eng28{k2=0,k3=0}: UNKNOWN: CUDNN_STATUS_ALLOC_FAILED\nin external/xla/xla/stream_executor/cuda/cuda_dnn.cc(6043): 'status'\n  Profiling failure on cuDNN engine eng28{k2=1,k3=0}: UNKNOWN: CUDNN_STATUS_ALLOC_FAILED\nin external/xla/xla/stream_executor/cuda/cuda_dnn.cc(6043): 'status'\n  Profiling failure on cuDNN engine eng1{}: UNKNOWN: CUDNN_STATUS_ALLOC_FAILED\nin external/xla/xla/stream_executor/cuda/cuda_dnn.cc(6043): 'status'\n  Profiling failure on cuDNN engine eng28{}: UNKNOWN: CUDNN_STATUS_ALLOC_FAILED\nin external/xla/xla/stream_executor/cuda/cuda_dnn.cc(6043): 'status'\n  Profiling failure on cuDNN engine eng0{}: UNKNOWN: CUDNN_STATUS_ALLOC_FAILED\nin external/xla/xla/stream_executor/cuda/cuda_dnn.cc(6043): 'status'\n  Profiling failure on cuDNN engine eng55{k2=0,k13=2,k14=2,k18=0,k22=0,k23=0}: UNKNOWN: CUDNN_STATUS_ALLOC_FAILED\nin external/xla/xla/stream_executor/cuda/cuda_dnn.cc(6043): 'status'\n  Profiling failure on cuDNN engine eng55{k2=8,k13=1,k14=3,k18=1,k22=0,k23=0}: UNKNOWN: CUDNN_STATUS_ALLOC_FAILED\nin external/xla/xla/stream_executor/cuda/cuda_dnn.cc(6043): 'status'\n  Profiling failure on cuDNN engine eng55{k2=3,k13=0,k14=1,k18=0,k22=0,k23=0}: UNKNOWN: CUDNN_STATUS_ALLOC_FAILED\nin external/xla/xla/stream_executor/cuda/cuda_dnn.cc(6043): 'status'\n  Profiling failure on cuDNN engine eng53{k2=5,k13=1,k14=2,k18=0,k23=0}: UNKNOWN: CUDNN_STATUS_ALLOC_FAILED\nin external/xla/xla/stream_executor/cuda/cuda_dnn.cc(6043): 'status'\n  Profiling failure on cuDNN engine eng55{k2=0,k13=0,k14=2,k18=0,k22=0,k23=0}: UNKNOWN: CUDNN_STATUS_ALLOC_FAILED\nin external/xla/xla/stream_executor/cuda/cuda_dnn.cc(6043): 'status'\n  Profiling failure on cuDNN engine eng53{k2=6,k13=0,k14=1,k18=0,k23=0}: UNKNOWN: CUDNN_STATUS_ALLOC_FAILED\nin external/xla/xla/stream_executor/cuda/cuda_dnn.cc(6043): 'status'\n\nTo ignore this failure and try to use a fallback algorithm (which may have suboptimal performance), use XLA_FLAGS=--xla_gpu_strict_conv_algorithm_picker=false.  Please also file a bug for the root cause of failing autotuning."
     ]
    }
   ],
   "source": [
    "img1 = gaussian_filter(image, sigma=3)\n",
    "img1r = rescale_quantile(img1, 0.5, 0.95)"
   ]
  },
  {
   "cell_type": "code",
   "execution_count": 7,
   "id": "48b5d27c-c858-4d23-b5fe-f9c048b75657",
   "metadata": {},
   "outputs": [
    {
     "ename": "NameError",
     "evalue": "name 'img1r' is not defined",
     "output_type": "error",
     "traceback": [
      "\u001b[0;31m---------------------------------------------------------------------------\u001b[0m",
      "\u001b[0;31mNameError\u001b[0m                                 Traceback (most recent call last)",
      "\u001b[0;32m/tmp/ipykernel_3887071/1112935415.py\u001b[0m in \u001b[0;36m<module>\u001b[0;34m\u001b[0m\n\u001b[0;32m----> 1\u001b[0;31m \u001b[0mplot_image\u001b[0m\u001b[0;34m(\u001b[0m\u001b[0mimg1r\u001b[0m\u001b[0;34m)\u001b[0m\u001b[0;34m\u001b[0m\u001b[0;34m\u001b[0m\u001b[0m\n\u001b[0m",
      "\u001b[0;31mNameError\u001b[0m: name 'img1r' is not defined"
     ]
    }
   ],
   "source": [
    "plot_image(img1r)"
   ]
  },
  {
   "cell_type": "markdown",
   "id": "af9b6772-fad9-453f-b08b-f1f67dc190cb",
   "metadata": {},
   "source": [
    "## 3. Add noise"
   ]
  },
  {
   "cell_type": "code",
   "execution_count": 6,
   "id": "7804323e-b0a9-456d-ac33-41041601e135",
   "metadata": {},
   "outputs": [],
   "source": [
    "# just add some low-spatial-freq rumble?"
   ]
  },
  {
   "cell_type": "code",
   "execution_count": null,
   "id": "ecdf264d-6e78-4263-aa7c-bfa49d0c2f47",
   "metadata": {},
   "outputs": [],
   "source": []
  },
  {
   "cell_type": "markdown",
   "id": "b3788cae-a9d0-4dbb-aee0-e9682c816053",
   "metadata": {},
   "source": [
    "## 4. Convolve with PSF"
   ]
  },
  {
   "cell_type": "code",
   "execution_count": null,
   "id": "3e269c7b-bd1b-494a-b441-5c5c3c59daf2",
   "metadata": {},
   "outputs": [],
   "source": [
    "# TODO: find best PSF\n",
    "#input_psf = '/fastpool/data/W-GC-8000chan-briggs09-big-psf.fits'"
   ]
  },
  {
   "cell_type": "code",
   "execution_count": null,
   "id": "d33ed60c-4906-4415-a3ec-469f11dbd557",
   "metadata": {},
   "outputs": [],
   "source": [
    "#psf_image, psf_wcs = fits_image(psf_filename)\n",
    "#convolved = convolve(img1r, psf_image, mode=\"same\", method=\"fft\")"
   ]
  }
 ],
 "metadata": {
  "kernelspec": {
   "display_name": "py39",
   "language": "python",
   "name": "py39"
  },
  "language_info": {
   "codemirror_mode": {
    "name": "ipython",
    "version": 3
   },
   "file_extension": ".py",
   "mimetype": "text/x-python",
   "name": "python",
   "nbconvert_exporter": "python",
   "pygments_lexer": "ipython3",
   "version": "3.9.19"
  }
 },
 "nbformat": 4,
 "nbformat_minor": 5
}
