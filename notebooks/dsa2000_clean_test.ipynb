{
 "cells": [
  {
   "cell_type": "code",
   "execution_count": 1,
   "id": "1fe25d09-ce35-4ba4-a6c5-8350786eed4f",
   "metadata": {},
   "outputs": [],
   "source": [
    "from CLEAN import hogbom_clean\n",
    "#from data import fits_image\n",
    "import matplotlib.pyplot as plt\n",
    "from astropy.io import fits\n",
    "from scipy.ndimage import zoom"
   ]
  },
  {
   "cell_type": "code",
   "execution_count": 2,
   "id": "df298f88-41bc-4d30-bdd2-f6388f8fa825",
   "metadata": {},
   "outputs": [
    {
     "data": {
      "text/plain": [
       "\u001b[0;31mSignature:\u001b[0m\n",
       "\u001b[0mhogbom_clean\u001b[0m\u001b[0;34m(\u001b[0m\u001b[0;34m\u001b[0m\n",
       "\u001b[0;34m\u001b[0m    \u001b[0mdirty_image\u001b[0m\u001b[0;34m,\u001b[0m\u001b[0;34m\u001b[0m\n",
       "\u001b[0;34m\u001b[0m    \u001b[0mpsf\u001b[0m\u001b[0;34m,\u001b[0m\u001b[0;34m\u001b[0m\n",
       "\u001b[0;34m\u001b[0m    \u001b[0mgain\u001b[0m\u001b[0;34m=\u001b[0m\u001b[0;36m0.1\u001b[0m\u001b[0;34m,\u001b[0m\u001b[0;34m\u001b[0m\n",
       "\u001b[0;34m\u001b[0m    \u001b[0mthreshold\u001b[0m\u001b[0;34m=\u001b[0m\u001b[0;36m0.001\u001b[0m\u001b[0;34m,\u001b[0m\u001b[0;34m\u001b[0m\n",
       "\u001b[0;34m\u001b[0m    \u001b[0mmax_iterations\u001b[0m\u001b[0;34m=\u001b[0m\u001b[0;36m1000\u001b[0m\u001b[0;34m,\u001b[0m\u001b[0;34m\u001b[0m\n",
       "\u001b[0;34m\u001b[0m\u001b[0;34m)\u001b[0m\u001b[0;34m\u001b[0m\u001b[0;34m\u001b[0m\u001b[0m\n",
       "\u001b[0;31mDocstring:\u001b[0m\n",
       "Performs the Hogbom CLEAN algorithm on a dirty image.\n",
       "\n",
       "Parameters:\n",
       "dirty_image (2D numpy array): The dirty image to be cleaned.\n",
       "psf (2D numpy array): The point spread function (PSF) or dirty beam.\n",
       "gain (float): The loop gain (fraction of the peak to subtract each iteration). Default is 0.1.\n",
       "threshold (float): The stopping threshold for the peak residual. Default is 0.001.\n",
       "max_iterations (int): Maximum number of iterations to perform. Default is 1000.\n",
       "\n",
       "Returns:\n",
       "clean_image (2D numpy array): The cleaned image.\n",
       "residual (2D numpy array): The final residual image.\n",
       "\u001b[0;31mFile:\u001b[0m      ~/miniconda3/envs/py310/lib/python3.10/site-packages/CLEAN.py\n",
       "\u001b[0;31mType:\u001b[0m      function"
      ]
     },
     "metadata": {},
     "output_type": "display_data"
    }
   ],
   "source": [
    "hogbom_clean?"
   ]
  },
  {
   "cell_type": "code",
   "execution_count": 9,
   "id": "92543fc8-2f8a-489e-aabb-a2ffa486b3af",
   "metadata": {},
   "outputs": [],
   "source": [
    "imagename = '/data/claw/images/sub4702_image.fits'\n",
    "psfname = '/data/claw/images/sub4702_psf.fits'"
   ]
  },
  {
   "cell_type": "code",
   "execution_count": 10,
   "id": "59bd781c-e9c7-498e-a068-876d10d830af",
   "metadata": {},
   "outputs": [
    {
     "name": "stdout",
     "output_type": "stream",
     "text": [
      "(16380, 16380) (32000, 32000)\n"
     ]
    }
   ],
   "source": [
    "imhdu = fits.open(imagename)\n",
    "imhdr = imhdu[0].header\n",
    "psfhdu = fits.open(psfname)\n",
    "psfhdr = psfhdu[0].header\n",
    "imarr = imhdu[0].data.squeeze()\n",
    "psfarr = psfhdu[0].data\n",
    "\n",
    "print(imarr.shape, psfarr.shape)"
   ]
  },
  {
   "cell_type": "code",
   "execution_count": 17,
   "id": "588f32b4-004a-4306-822b-e5724cef863b",
   "metadata": {},
   "outputs": [
    {
     "name": "stdout",
     "output_type": "stream",
     "text": [
      "pixel scales: 0.87890625, 0.500000000000004\n"
     ]
    }
   ],
   "source": [
    "im_scale = imhdr['CDELT2']*3600\n",
    "psf_scale = psfhdr['CDELT2']*3600\n",
    "print(f'pixel scales: {im_scale}, {psf_scale}')\n",
    "psf_subsize = 513"
   ]
  },
  {
   "cell_type": "code",
   "execution_count": 18,
   "id": "b9e2da15-54ed-4c1f-ad23-e099c6b40388",
   "metadata": {},
   "outputs": [
    {
     "name": "stdout",
     "output_type": "stream",
     "text": [
      "iteration: 0\n",
      "iteration: 1\n",
      "iteration: 2\n",
      "iteration: 3\n",
      "iteration: 4\n",
      "iteration: 5\n",
      "iteration: 6\n",
      "iteration: 7\n",
      "iteration: 8\n",
      "iteration: 9\n",
      "iteration: 10\n",
      "iteration: 11\n",
      "iteration: 12\n",
      "iteration: 13\n",
      "iteration: 14\n",
      "iteration: 15\n",
      "iteration: 16\n",
      "iteration: 17\n",
      "iteration: 18\n",
      "iteration: 19\n",
      "iteration: 20\n",
      "iteration: 21\n",
      "iteration: 22\n",
      "iteration: 23\n",
      "iteration: 24\n",
      "iteration: 25\n",
      "iteration: 26\n",
      "iteration: 27\n",
      "iteration: 28\n",
      "iteration: 29\n",
      "iteration: 30\n",
      "iteration: 31\n",
      "iteration: 32\n",
      "iteration: 33\n",
      "iteration: 34\n",
      "iteration: 35\n",
      "iteration: 36\n",
      "iteration: 37\n",
      "iteration: 38\n",
      "iteration: 39\n",
      "iteration: 40\n",
      "iteration: 41\n",
      "iteration: 42\n",
      "iteration: 43\n",
      "iteration: 44\n",
      "iteration: 45\n",
      "iteration: 46\n",
      "iteration: 47\n",
      "iteration: 48\n",
      "iteration: 49\n",
      "Gaussian restoring size of (900, 900) and width 2.972626301008067\n"
     ]
    }
   ],
   "source": [
    "imarr_clean, imarr_resid = hogbom_clean(imarr,\n",
    "                                        zoom(psfarr[32000//2-psf_subsize//2:32000//2+psf_subsize//2,\n",
    "                                                    32000//2-psf_subsize//2:32000//2+psf_subsize//2], im_scale/psf_scale),\n",
    "                                        max_iterations=50, gain=0.1, threshold=1e-9)"
   ]
  },
  {
   "cell_type": "code",
   "execution_count": 19,
   "id": "2f895522-a85b-428f-94d9-eb20241f726a",
   "metadata": {},
   "outputs": [],
   "source": [
    "#plt.imshow(tmp, origin='lower')"
   ]
  },
  {
   "cell_type": "code",
   "execution_count": 20,
   "id": "904dd49b-a5db-4bbe-8fa7-f0d1c2e0254c",
   "metadata": {},
   "outputs": [],
   "source": [
    "fits.writeto(imagename.replace('.fits', '_clean.fits'), data=imarr_resid, header=imhdr, overwrite=True)"
   ]
  },
  {
   "cell_type": "code",
   "execution_count": null,
   "id": "4c236916-8b8d-4737-9d85-894b6be52282",
   "metadata": {},
   "outputs": [],
   "source": []
  }
 ],
 "metadata": {
  "kernelspec": {
   "display_name": "py310",
   "language": "python",
   "name": "py310"
  },
  "language_info": {
   "codemirror_mode": {
    "name": "ipython",
    "version": 3
   },
   "file_extension": ".py",
   "mimetype": "text/x-python",
   "name": "python",
   "nbconvert_exporter": "python",
   "pygments_lexer": "ipython3",
   "version": "3.10.15"
  }
 },
 "nbformat": 4,
 "nbformat_minor": 5
}
